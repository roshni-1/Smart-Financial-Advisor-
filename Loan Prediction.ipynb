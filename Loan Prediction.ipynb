{
 "cells": [
  {
   "cell_type": "code",
   "execution_count": 62,
   "id": "6ff36ef9-75cf-4414-89ea-80e00649b0e7",
   "metadata": {
    "tags": []
   },
   "outputs": [
    {
     "data": {
      "text/html": [
       "<div>\n",
       "<style scoped>\n",
       "    .dataframe tbody tr th:only-of-type {\n",
       "        vertical-align: middle;\n",
       "    }\n",
       "\n",
       "    .dataframe tbody tr th {\n",
       "        vertical-align: top;\n",
       "    }\n",
       "\n",
       "    .dataframe thead th {\n",
       "        text-align: right;\n",
       "    }\n",
       "</style>\n",
       "<table border=\"1\" class=\"dataframe\">\n",
       "  <thead>\n",
       "    <tr style=\"text-align: right;\">\n",
       "      <th></th>\n",
       "      <th>Age</th>\n",
       "      <th>Employment_Status</th>\n",
       "      <th>Marital_Status</th>\n",
       "      <th>Dependents</th>\n",
       "      <th>Monthly_Income</th>\n",
       "      <th>Savings</th>\n",
       "      <th>Food_Grocery_Expenses</th>\n",
       "      <th>Internet_Mobile_Expenses</th>\n",
       "      <th>Electricity_Bills</th>\n",
       "      <th>Shopping_Expenses</th>\n",
       "      <th>...</th>\n",
       "      <th>Loan_1_Amount</th>\n",
       "      <th>Loan_1_EMI</th>\n",
       "      <th>Loan_2_Amount</th>\n",
       "      <th>Loan_2_EMI</th>\n",
       "      <th>Credit_Score</th>\n",
       "      <th>Investments</th>\n",
       "      <th>Stock_Quantity</th>\n",
       "      <th>Loan_Approval_Chance</th>\n",
       "      <th>Investment_Recommendation</th>\n",
       "      <th>Portfolio_Optimization</th>\n",
       "    </tr>\n",
       "  </thead>\n",
       "  <tbody>\n",
       "    <tr>\n",
       "      <th>0</th>\n",
       "      <td>50</td>\n",
       "      <td>Employed</td>\n",
       "      <td>Married</td>\n",
       "      <td>3</td>\n",
       "      <td>173240</td>\n",
       "      <td>388828</td>\n",
       "      <td>15807</td>\n",
       "      <td>3002</td>\n",
       "      <td>4000</td>\n",
       "      <td>8434</td>\n",
       "      <td>...</td>\n",
       "      <td>201150</td>\n",
       "      <td>17529</td>\n",
       "      <td>827150</td>\n",
       "      <td>0</td>\n",
       "      <td>300</td>\n",
       "      <td>NaN</td>\n",
       "      <td>0</td>\n",
       "      <td>0</td>\n",
       "      <td>Stocks</td>\n",
       "      <td>No</td>\n",
       "    </tr>\n",
       "    <tr>\n",
       "      <th>1</th>\n",
       "      <td>33</td>\n",
       "      <td>Employed</td>\n",
       "      <td>Single</td>\n",
       "      <td>2</td>\n",
       "      <td>114450</td>\n",
       "      <td>259668</td>\n",
       "      <td>17698</td>\n",
       "      <td>1981</td>\n",
       "      <td>3548</td>\n",
       "      <td>4899</td>\n",
       "      <td>...</td>\n",
       "      <td>253622</td>\n",
       "      <td>5165</td>\n",
       "      <td>903891</td>\n",
       "      <td>21253</td>\n",
       "      <td>300</td>\n",
       "      <td>NaN</td>\n",
       "      <td>0</td>\n",
       "      <td>0</td>\n",
       "      <td>Stocks</td>\n",
       "      <td>No</td>\n",
       "    </tr>\n",
       "    <tr>\n",
       "      <th>2</th>\n",
       "      <td>41</td>\n",
       "      <td>Employed</td>\n",
       "      <td>Single</td>\n",
       "      <td>1</td>\n",
       "      <td>92399</td>\n",
       "      <td>105064</td>\n",
       "      <td>13133</td>\n",
       "      <td>3101</td>\n",
       "      <td>2624</td>\n",
       "      <td>5610</td>\n",
       "      <td>...</td>\n",
       "      <td>604834</td>\n",
       "      <td>19930</td>\n",
       "      <td>485773</td>\n",
       "      <td>0</td>\n",
       "      <td>300</td>\n",
       "      <td>NaN</td>\n",
       "      <td>0</td>\n",
       "      <td>0</td>\n",
       "      <td>SIP</td>\n",
       "      <td>No</td>\n",
       "    </tr>\n",
       "    <tr>\n",
       "      <th>3</th>\n",
       "      <td>40</td>\n",
       "      <td>Employed</td>\n",
       "      <td>Single</td>\n",
       "      <td>0</td>\n",
       "      <td>195658</td>\n",
       "      <td>420181</td>\n",
       "      <td>13274</td>\n",
       "      <td>3144</td>\n",
       "      <td>3641</td>\n",
       "      <td>5770</td>\n",
       "      <td>...</td>\n",
       "      <td>992766</td>\n",
       "      <td>27365</td>\n",
       "      <td>305376</td>\n",
       "      <td>17038</td>\n",
       "      <td>300</td>\n",
       "      <td>Stocks</td>\n",
       "      <td>450</td>\n",
       "      <td>0</td>\n",
       "      <td>Stocks</td>\n",
       "      <td>Yes</td>\n",
       "    </tr>\n",
       "    <tr>\n",
       "      <th>4</th>\n",
       "      <td>48</td>\n",
       "      <td>Employed</td>\n",
       "      <td>Married</td>\n",
       "      <td>2</td>\n",
       "      <td>83044</td>\n",
       "      <td>21025</td>\n",
       "      <td>16012</td>\n",
       "      <td>3894</td>\n",
       "      <td>3224</td>\n",
       "      <td>3794</td>\n",
       "      <td>...</td>\n",
       "      <td>722938</td>\n",
       "      <td>29143</td>\n",
       "      <td>628776</td>\n",
       "      <td>0</td>\n",
       "      <td>300</td>\n",
       "      <td>Stocks</td>\n",
       "      <td>0</td>\n",
       "      <td>0</td>\n",
       "      <td>NaN</td>\n",
       "      <td>No</td>\n",
       "    </tr>\n",
       "  </tbody>\n",
       "</table>\n",
       "<p>5 rows × 25 columns</p>\n",
       "</div>"
      ],
      "text/plain": [
       "   Age Employment_Status Marital_Status  Dependents  Monthly_Income  Savings  \\\n",
       "0   50          Employed        Married           3          173240   388828   \n",
       "1   33          Employed         Single           2          114450   259668   \n",
       "2   41          Employed         Single           1           92399   105064   \n",
       "3   40          Employed         Single           0          195658   420181   \n",
       "4   48          Employed        Married           2           83044    21025   \n",
       "\n",
       "   Food_Grocery_Expenses  Internet_Mobile_Expenses  Electricity_Bills  \\\n",
       "0                  15807                      3002               4000   \n",
       "1                  17698                      1981               3548   \n",
       "2                  13133                      3101               2624   \n",
       "3                  13274                      3144               3641   \n",
       "4                  16012                      3894               3224   \n",
       "\n",
       "   Shopping_Expenses  ...  Loan_1_Amount  Loan_1_EMI  Loan_2_Amount  \\\n",
       "0               8434  ...         201150       17529         827150   \n",
       "1               4899  ...         253622        5165         903891   \n",
       "2               5610  ...         604834       19930         485773   \n",
       "3               5770  ...         992766       27365         305376   \n",
       "4               3794  ...         722938       29143         628776   \n",
       "\n",
       "   Loan_2_EMI  Credit_Score  Investments  Stock_Quantity  \\\n",
       "0           0           300          NaN               0   \n",
       "1       21253           300          NaN               0   \n",
       "2           0           300          NaN               0   \n",
       "3       17038           300       Stocks             450   \n",
       "4           0           300       Stocks               0   \n",
       "\n",
       "   Loan_Approval_Chance  Investment_Recommendation  Portfolio_Optimization  \n",
       "0                     0                     Stocks                      No  \n",
       "1                     0                     Stocks                      No  \n",
       "2                     0                        SIP                      No  \n",
       "3                     0                     Stocks                     Yes  \n",
       "4                     0                        NaN                      No  \n",
       "\n",
       "[5 rows x 25 columns]"
      ]
     },
     "execution_count": 62,
     "metadata": {},
     "output_type": "execute_result"
    }
   ],
   "source": [
    "import pandas as pd\n",
    "\n",
    "# Loading the financial dataset\n",
    "file_path = r\"C:\\Users\\irosh\\Downloads\\financial_data.csv\"\n",
    "df = pd.read_csv(file_path)\n",
    "\n",
    "# first few rows  of the dataset\n",
    "df.head()\n"
   ]
  },
  {
   "cell_type": "code",
   "execution_count": 63,
   "id": "a7ddb603-aa6d-474e-81e9-70531e7849fa",
   "metadata": {
    "tags": []
   },
   "outputs": [
    {
     "name": "stdout",
     "output_type": "stream",
     "text": [
      "Age                             0\n",
      "Employment_Status               0\n",
      "Marital_Status                  0\n",
      "Dependents                      0\n",
      "Monthly_Income                  0\n",
      "Savings                         0\n",
      "Food_Grocery_Expenses           0\n",
      "Internet_Mobile_Expenses        0\n",
      "Electricity_Bills               0\n",
      "Shopping_Expenses               0\n",
      "Personal_Expenses               0\n",
      "Miscellaneous_Expenses          0\n",
      "Rent                            0\n",
      "Own_House                       0\n",
      "Active_Loans                    0\n",
      "Loan_1_Amount                   0\n",
      "Loan_1_EMI                      0\n",
      "Loan_2_Amount                   0\n",
      "Loan_2_EMI                      0\n",
      "Credit_Score                    0\n",
      "Investments                  2975\n",
      "Stock_Quantity                  0\n",
      "Loan_Approval_Chance            0\n",
      "Investment_Recommendation    2564\n",
      "Portfolio_Optimization          0\n",
      "dtype: int64\n"
     ]
    }
   ],
   "source": [
    "# Checking for missing values\n",
    "print(df.isnull().sum())"
   ]
  },
  {
   "cell_type": "code",
   "execution_count": 64,
   "id": "ba99cb38-15ad-485d-b032-fbd71a13c0a5",
   "metadata": {
    "tags": []
   },
   "outputs": [
    {
     "name": "stdout",
     "output_type": "stream",
     "text": [
      "Age                          0\n",
      "Employment_Status            0\n",
      "Marital_Status               0\n",
      "Dependents                   0\n",
      "Monthly_Income               0\n",
      "Savings                      0\n",
      "Food_Grocery_Expenses        0\n",
      "Internet_Mobile_Expenses     0\n",
      "Electricity_Bills            0\n",
      "Shopping_Expenses            0\n",
      "Personal_Expenses            0\n",
      "Miscellaneous_Expenses       0\n",
      "Rent                         0\n",
      "Own_House                    0\n",
      "Active_Loans                 0\n",
      "Loan_1_Amount                0\n",
      "Loan_1_EMI                   0\n",
      "Loan_2_Amount                0\n",
      "Loan_2_EMI                   0\n",
      "Credit_Score                 0\n",
      "Investments                  0\n",
      "Stock_Quantity               0\n",
      "Loan_Approval_Chance         0\n",
      "Investment_Recommendation    0\n",
      "Portfolio_Optimization       0\n",
      "dtype: int64\n"
     ]
    },
    {
     "name": "stderr",
     "output_type": "stream",
     "text": [
      "C:\\Users\\irosh\\AppData\\Local\\Temp\\ipykernel_19480\\434372896.py:2: FutureWarning: A value is trying to be set on a copy of a DataFrame or Series through chained assignment using an inplace method.\n",
      "The behavior will change in pandas 3.0. This inplace method will never work because the intermediate object on which we are setting values always behaves as a copy.\n",
      "\n",
      "For example, when doing 'df[col].method(value, inplace=True)', try using 'df.method({col: value}, inplace=True)' or df[col] = df[col].method(value) instead, to perform the operation inplace on the original object.\n",
      "\n",
      "\n",
      "  df['Investments'].fillna('None', inplace=True)\n",
      "C:\\Users\\irosh\\AppData\\Local\\Temp\\ipykernel_19480\\434372896.py:5: FutureWarning: A value is trying to be set on a copy of a DataFrame or Series through chained assignment using an inplace method.\n",
      "The behavior will change in pandas 3.0. This inplace method will never work because the intermediate object on which we are setting values always behaves as a copy.\n",
      "\n",
      "For example, when doing 'df[col].method(value, inplace=True)', try using 'df.method({col: value}, inplace=True)' or df[col] = df[col].method(value) instead, to perform the operation inplace on the original object.\n",
      "\n",
      "\n",
      "  df['Investment_Recommendation'].fillna('No Recommendation', inplace=True)\n"
     ]
    }
   ],
   "source": [
    "# Filling missing values in Investments column with None\n",
    "df['Investments'].fillna('None', inplace=True)\n",
    "\n",
    "# Filling missing values in Investment_Recommendation with No Recommendation\n",
    "df['Investment_Recommendation'].fillna('No Recommendation', inplace=True)\n",
    "\n",
    "# checking the missing values again\n",
    "print(df.isnull().sum())\n"
   ]
  },
  {
   "cell_type": "code",
   "execution_count": 65,
   "id": "acdf9625-d5a9-446b-83f6-79766039ce7c",
   "metadata": {
    "tags": []
   },
   "outputs": [
    {
     "name": "stdout",
     "output_type": "stream",
     "text": [
      "(8000, 26) (2000, 26)\n"
     ]
    }
   ],
   "source": [
    "from sklearn.preprocessing import OneHotEncoder, StandardScaler\n",
    "from sklearn.model_selection import train_test_split\n",
    "\n",
    "# Converting categorical columns to one-hot encoding\n",
    "categorical_cols = ['Employment_Status', 'Marital_Status', 'Investments']\n",
    "\n",
    "# One-hot encoding\n",
    "df_encoded = pd.get_dummies(df, columns=categorical_cols, drop_first=True)\n",
    "\n",
    "#  numerical columns to scale\n",
    "numerical_cols = ['Monthly_Income', 'Savings', 'Food_Grocery_Expenses', 'Internet_Mobile_Expenses', \n",
    "                  'Electricity_Bills', 'Shopping_Expenses', 'Personal_Expenses', 'Miscellaneous_Expenses', \n",
    "                  'Rent', 'Loan_1_Amount', 'Loan_1_EMI', 'Loan_2_Amount', 'Loan_2_EMI', 'Credit_Score']\n",
    "\n",
    "#  scaling\n",
    "scaler = StandardScaler()\n",
    "df_encoded[numerical_cols] = scaler.fit_transform(df_encoded[numerical_cols])\n",
    "\n",
    "# splitting the data into train and test sets\n",
    "X = df_encoded.drop(['Loan_Approval_Chance', 'Investment_Recommendation', 'Portfolio_Optimization'], axis=1)\n",
    "y_loan_approval = df_encoded['Loan_Approval_Chance']\n",
    "\n",
    "\n",
    "# splitting the dataset for loan approval model\n",
    "X_train_loan, X_test_loan, y_train_loan, y_test_loan = train_test_split(X, y_loan_approval, test_size=0.2, random_state=42)\n",
    "\n",
    "\n",
    "# Checking the shapes to ensure correct splitting\n",
    "print(X_train_loan.shape, X_test_loan.shape)\n",
    "\n"
   ]
  },
  {
   "cell_type": "code",
   "execution_count": 66,
   "id": "96af06e4-c1fd-490e-835c-2a23dbe6763c",
   "metadata": {
    "tags": []
   },
   "outputs": [
    {
     "name": "stdout",
     "output_type": "stream",
     "text": [
      "Loan Approval Prediction Accuracy:  0.886\n",
      "Classification Report:\n",
      "               precision    recall  f1-score   support\n",
      "\n",
      "           0       0.98      0.82      0.90      1186\n",
      "           1       0.79      0.98      0.87       814\n",
      "\n",
      "    accuracy                           0.89      2000\n",
      "   macro avg       0.89      0.90      0.89      2000\n",
      "weighted avg       0.90      0.89      0.89      2000\n",
      "\n"
     ]
    }
   ],
   "source": [
    "from sklearn.ensemble import RandomForestClassifier\n",
    "from sklearn.metrics import classification_report, accuracy_score\n",
    "\n",
    "# Training the Random Forest Classifier for Loan Approval Prediction\n",
    "rf_loan_model = RandomForestClassifier(random_state=42, n_estimators=100)\n",
    "\n",
    "# Fitting the model\n",
    "rf_loan_model.fit(X_train_loan, y_train_loan)\n",
    "\n",
    "# Predictions\n",
    "y_pred_loan = rf_loan_model.predict(X_test_loan)\n",
    "\n",
    "# Evaluation\n",
    "print(\"Loan Approval Prediction Accuracy: \", accuracy_score(y_test_loan, y_pred_loan))\n",
    "print(\"Classification Report:\\n\", classification_report(y_test_loan, y_pred_loan))\n"
   ]
  },
  {
   "cell_type": "code",
   "execution_count": 67,
   "id": "6d469da8-fc85-428a-a035-288bd80243a9",
   "metadata": {
    "tags": []
   },
   "outputs": [
    {
     "name": "stdout",
     "output_type": "stream",
     "text": [
      "Logistic Regression Accuracy: 0.8715\n",
      "Classification Report for Logistic Regression:\n",
      "              precision    recall  f1-score   support\n",
      "\n",
      "           0       0.90      0.88      0.89      1186\n",
      "           1       0.83      0.86      0.84       814\n",
      "\n",
      "    accuracy                           0.87      2000\n",
      "   macro avg       0.87      0.87      0.87      2000\n",
      "weighted avg       0.87      0.87      0.87      2000\n",
      "\n"
     ]
    }
   ],
   "source": [
    "from sklearn.linear_model import LogisticRegression\n",
    "\n",
    "# Logistic Regression\n",
    "lr_model = LogisticRegression(max_iter=1000)\n",
    "lr_model.fit(X_train_loan, y_train_loan)\n",
    "y_pred_lr = lr_model.predict(X_test_loan)\n",
    "print(\"Logistic Regression Accuracy:\", accuracy_score(y_test_loan, y_pred_lr))\n",
    "print(\"Classification Report for Logistic Regression:\")\n",
    "print(classification_report(y_test_loan, y_pred_lr))\n"
   ]
  },
  {
   "cell_type": "code",
   "execution_count": 68,
   "id": "27fb1ee4-054a-43d7-a902-0a062f49b77d",
   "metadata": {
    "tags": []
   },
   "outputs": [
    {
     "name": "stdout",
     "output_type": "stream",
     "text": [
      "SVC Accuracy: 0.593\n",
      "Classification Report for SVC:\n",
      "              precision    recall  f1-score   support\n",
      "\n",
      "           0       0.59      1.00      0.74      1186\n",
      "           1       0.00      0.00      0.00       814\n",
      "\n",
      "    accuracy                           0.59      2000\n",
      "   macro avg       0.30      0.50      0.37      2000\n",
      "weighted avg       0.35      0.59      0.44      2000\n",
      "\n"
     ]
    },
    {
     "name": "stderr",
     "output_type": "stream",
     "text": [
      "C:\\Users\\irosh\\anaconda3\\Lib\\site-packages\\sklearn\\metrics\\_classification.py:1531: UndefinedMetricWarning: Precision is ill-defined and being set to 0.0 in labels with no predicted samples. Use `zero_division` parameter to control this behavior.\n",
      "  _warn_prf(average, modifier, f\"{metric.capitalize()} is\", len(result))\n",
      "C:\\Users\\irosh\\anaconda3\\Lib\\site-packages\\sklearn\\metrics\\_classification.py:1531: UndefinedMetricWarning: Precision is ill-defined and being set to 0.0 in labels with no predicted samples. Use `zero_division` parameter to control this behavior.\n",
      "  _warn_prf(average, modifier, f\"{metric.capitalize()} is\", len(result))\n",
      "C:\\Users\\irosh\\anaconda3\\Lib\\site-packages\\sklearn\\metrics\\_classification.py:1531: UndefinedMetricWarning: Precision is ill-defined and being set to 0.0 in labels with no predicted samples. Use `zero_division` parameter to control this behavior.\n",
      "  _warn_prf(average, modifier, f\"{metric.capitalize()} is\", len(result))\n"
     ]
    }
   ],
   "source": [
    "from sklearn.svm import SVC\n",
    "# Support Vector Classifier\n",
    "svc_model = SVC(probability=True)\n",
    "svc_model.fit(X_train_loan, y_train_loan)\n",
    "y_pred_svc = svc_model.predict(X_test_loan)\n",
    "print(\"SVC Accuracy:\", accuracy_score(y_test_loan, y_pred_svc))\n",
    "print(\"Classification Report for SVC:\")\n",
    "print(classification_report(y_test_loan, y_pred_svc))"
   ]
  },
  {
   "cell_type": "code",
   "execution_count": 69,
   "id": "1cf73ff4-ad40-4c84-9d46-3a19788834b5",
   "metadata": {
    "tags": []
   },
   "outputs": [
    {
     "name": "stdout",
     "output_type": "stream",
     "text": [
      "MLP Accuracy: 0.879\n",
      "Classification Report for MLP:\n",
      "              precision    recall  f1-score   support\n",
      "\n",
      "           0       0.94      0.85      0.89      1186\n",
      "           1       0.81      0.92      0.86       814\n",
      "\n",
      "    accuracy                           0.88      2000\n",
      "   macro avg       0.87      0.89      0.88      2000\n",
      "weighted avg       0.89      0.88      0.88      2000\n",
      "\n"
     ]
    }
   ],
   "source": [
    "from sklearn.neural_network import MLPClassifier\n",
    "\n",
    "# Deep Learning: Multilayer Perceptron (MLP)\n",
    "mlp_model = MLPClassifier(hidden_layer_sizes=(100, 50), max_iter=500, random_state=42)\n",
    "mlp_model.fit(X_train_loan, y_train_loan)\n",
    "y_pred_mlp = mlp_model.predict(X_test_loan)\n",
    "print(\"MLP Accuracy:\", accuracy_score(y_test_loan, y_pred_mlp))\n",
    "print(\"Classification Report for MLP:\")\n",
    "print(classification_report(y_test_loan, y_pred_mlp))\n"
   ]
  },
  {
   "cell_type": "code",
   "execution_count": 70,
   "id": "685ddb5b-ee08-4ee7-9e88-3cd3d11c430b",
   "metadata": {
    "tags": []
   },
   "outputs": [
    {
     "name": "stdout",
     "output_type": "stream",
     "text": [
      "Best Parameters for Random Forest: {'max_depth': 10, 'min_samples_leaf': 4, 'min_samples_split': 2, 'n_estimators': 200}\n",
      "Best Random Forest Accuracy: 0.9013750000000001\n",
      "Best Parameters for MLP: {'activation': 'relu', 'hidden_layer_sizes': (100,), 'learning_rate': 'constant', 'solver': 'adam'}\n",
      "Best MLP Accuracy: 0.8838750000000001\n"
     ]
    }
   ],
   "source": [
    "from sklearn.model_selection import GridSearchCV\n",
    "\n",
    "# Hyperparameter grid for Random Forest\n",
    "rf_param_grid = {\n",
    "    'n_estimators': [100, 200, 300],\n",
    "    'max_depth': [None, 10, 20, 30],\n",
    "    'min_samples_split': [2, 5, 10],\n",
    "    'min_samples_leaf': [1, 2, 4]\n",
    "}\n",
    "\n",
    "# Hyperparameter grid for MLP\n",
    "mlp_param_grid = {\n",
    "    'hidden_layer_sizes': [(50,), (100,), (100, 50), (150, 100, 50)],\n",
    "    'activation': ['tanh', 'relu'],\n",
    "    'solver': ['adam', 'sgd'],\n",
    "    'learning_rate': ['constant', 'adaptive'],\n",
    "}\n",
    "\n",
    "# Random Forest tuning\n",
    "rf_grid_search = GridSearchCV(RandomForestClassifier(random_state=42), rf_param_grid, cv=5, scoring='accuracy', n_jobs=-1)\n",
    "rf_grid_search.fit(X_train_loan, y_train_loan)\n",
    "\n",
    "# MLP tuning\n",
    "mlp_grid_search = GridSearchCV(MLPClassifier(max_iter=500, random_state=42), mlp_param_grid, cv=5, scoring='accuracy', n_jobs=-1)\n",
    "mlp_grid_search.fit(X_train_loan, y_train_loan)\n",
    "\n",
    "# Best parameters and accuracy for Random Forest\n",
    "best_rf_params = rf_grid_search.best_params_\n",
    "best_rf_accuracy = rf_grid_search.best_score_\n",
    "\n",
    "# Best parameters and accuracy for MLP\n",
    "best_mlp_params = mlp_grid_search.best_params_\n",
    "best_mlp_accuracy = mlp_grid_search.best_score_\n",
    "\n",
    "print(f\"Best Parameters for Random Forest: {best_rf_params}\")\n",
    "print(f\"Best Random Forest Accuracy: {best_rf_accuracy}\")\n",
    "\n",
    "print(f\"Best Parameters for MLP: {best_mlp_params}\")\n",
    "print(f\"Best MLP Accuracy: {best_mlp_accuracy}\")\n"
   ]
  },
  {
   "cell_type": "code",
   "execution_count": 71,
   "id": "2c287f70-3171-4606-82dc-a024d83abf85",
   "metadata": {
    "tags": []
   },
   "outputs": [
    {
     "name": "stdout",
     "output_type": "stream",
     "text": [
      "Random Forest Test Accuracy: 0.8865\n",
      "Random Forest Classification Report:\n",
      "              precision    recall  f1-score   support\n",
      "\n",
      "           0       0.98      0.82      0.90      1186\n",
      "           1       0.79      0.98      0.88       814\n",
      "\n",
      "    accuracy                           0.89      2000\n",
      "   macro avg       0.89      0.90      0.89      2000\n",
      "weighted avg       0.91      0.89      0.89      2000\n",
      "\n",
      "MLP Test Accuracy: 0.875\n",
      "MLP Classification Report:\n",
      "              precision    recall  f1-score   support\n",
      "\n",
      "           0       0.90      0.89      0.89      1186\n",
      "           1       0.84      0.86      0.85       814\n",
      "\n",
      "    accuracy                           0.88      2000\n",
      "   macro avg       0.87      0.87      0.87      2000\n",
      "weighted avg       0.88      0.88      0.88      2000\n",
      "\n"
     ]
    }
   ],
   "source": [
    "# Retraining Random Forest with best parameters\n",
    "best_rf_model = RandomForestClassifier(\n",
    "    max_depth=best_rf_params['max_depth'],\n",
    "    min_samples_leaf=best_rf_params['min_samples_leaf'],\n",
    "    min_samples_split=best_rf_params['min_samples_split'],\n",
    "    n_estimators=best_rf_params['n_estimators'],\n",
    "    random_state=42\n",
    ")\n",
    "best_rf_model.fit(X_train_loan, y_train_loan)\n",
    "\n",
    "# Predictions and evaluation for Random Forest\n",
    "y_pred_rf = best_rf_model.predict(X_test_loan)\n",
    "rf_accuracy = accuracy_score(y_test_loan, y_pred_rf)\n",
    "rf_classification_report = classification_report(y_test_loan, y_pred_rf)\n",
    "\n",
    "print(f\"Random Forest Test Accuracy: {rf_accuracy}\")\n",
    "print(\"Random Forest Classification Report:\")\n",
    "print(rf_classification_report)\n",
    "\n",
    "# Retraining MLP with best parameters\n",
    "best_mlp_model = MLPClassifier(\n",
    "    activation=best_mlp_params['activation'],\n",
    "    hidden_layer_sizes=best_mlp_params['hidden_layer_sizes'],\n",
    "    learning_rate=best_mlp_params['learning_rate'],\n",
    "    solver=best_mlp_params['solver'],\n",
    "    max_iter=500,\n",
    "    random_state=42\n",
    ")\n",
    "best_mlp_model.fit(X_train_loan, y_train_loan)\n",
    "\n",
    "# Predictions and evaluation for MLP\n",
    "y_pred_mlp = best_mlp_model.predict(X_test_loan)\n",
    "mlp_accuracy = accuracy_score(y_test_loan, y_pred_mlp)\n",
    "mlp_classification_report = classification_report(y_test_loan, y_pred_mlp)\n",
    "\n",
    "print(f\"MLP Test Accuracy: {mlp_accuracy}\")\n",
    "print(\"MLP Classification Report:\")\n",
    "print(mlp_classification_report)\n"
   ]
  },
  {
   "cell_type": "code",
   "execution_count": 72,
   "id": "86dbc669-2d1e-4803-88c2-eab8ee0058a8",
   "metadata": {
    "tags": []
   },
   "outputs": [
    {
     "name": "stdout",
     "output_type": "stream",
     "text": [
      "Random Forest model saved successfully!\n"
     ]
    }
   ],
   "source": [
    "#import joblib\n",
    "\n",
    "# Saving the trained Random Forest model\n",
    "#joblib.dump(best_rf_model, 'random_forest_loan_approval_model.pkl')\n",
    "\n",
    "#print(\"Random Forest model saved successfully!\")\n"
   ]
  }
 ],
 "metadata": {
  "kernelspec": {
   "display_name": "Python 3 (ipykernel)",
   "language": "python",
   "name": "python3"
  },
  "language_info": {
   "codemirror_mode": {
    "name": "ipython",
    "version": 3
   },
   "file_extension": ".py",
   "mimetype": "text/x-python",
   "name": "python",
   "nbconvert_exporter": "python",
   "pygments_lexer": "ipython3",
   "version": "3.11.5"
  }
 },
 "nbformat": 4,
 "nbformat_minor": 5
}
